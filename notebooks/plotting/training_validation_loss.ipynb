{
 "cells": [
  {
   "cell_type": "code",
   "execution_count": 1,
   "metadata": {},
   "outputs": [],
   "source": [
    "# general\n",
    "import sys, os, path\n",
    "import datetime\n",
    "\n",
    "# nn related\n",
    "import torch\n",
    "import torch as th\n",
    "import torch.nn as nn\n",
    "import numpy as np\n",
    "from numpy import linalg as la\n",
    "\n",
    "import matplotlib.pyplot as plt\n",
    "from matplotlib.ticker import (MultipleLocator, FormatStrFormatter,\n",
    "                               AutoMinorLocator)\n",
    "import matplotlib as mpl\n",
    "from matplotlib.transforms import Bbox\n",
    "\n",
    "import sys, re, os, path\n",
    "from matplotlib import axis\n",
    "import seaborn as sns\n",
    "colors=sns.color_palette()\n",
    "\n",
    "# own scrips\n",
    "sys.path.insert(1, '/home/leonriccius/PycharmProjects/data_driven_rans')\n",
    "from scripts.preProcess import readPatchData\n",
    "from scripts.preProcess import readCellCenters\n",
    "from scripts.preProcess import readVectorData\n",
    "from scripts.utilities import *\n",
    "\n",
    "from scripts import preProcess as pre"
   ]
  },
  {
   "cell_type": "code",
   "execution_count": 2,
   "metadata": {},
   "outputs": [],
   "source": [
    "def mse_b_unique(a, b):\n",
    "    return nn.MSELoss()(a[:, [0, 1, 2, 4, 5, 8]], b[:, [0, 1, 2, 4, 5, 8]])"
   ]
  },
  {
   "cell_type": "code",
   "execution_count": 3,
   "metadata": {},
   "outputs": [],
   "source": [
    "# define model paths\n",
    "model_base = '/home/leonriccius/PycharmProjects/data_driven_rans/storage/models/kaandorp_data/ph_cdc_sd/additional_features/phill_2800_10595_cdc_12600_sd_2000_2400_2900_3200_reg_1e-10_lr_10e-07_lr_scheduler_seed_12344/'\n",
    "\n",
    "# read in mu, std, model\n",
    "mu = th.load(os.sep.join([model_base, 'mu.th']))\n",
    "std = th.load(os.sep.join([model_base, 'std.th']))\n",
    "train_loss = th.load(os.sep.join([model_base, 'loss_vector.th']))\n",
    "val_loss = th.load(os.sep.join([model_base, 'val_loss_vector.th']))\n",
    "\n",
    "model = th.load(os.sep.join([model_base, 'model.pt']))\n",
    "_ = model.eval()"
   ]
  },
  {
   "cell_type": "code",
   "execution_count": 4,
   "metadata": {},
   "outputs": [
    {
     "data": {
      "image/png": "[encoded data removed]",
      "text/plain": [
       "<Figure size 576x198 with 2 Axes>"
      ]
     },
     "metadata": {
      "needs_background": "light"
     },
     "output_type": "display_data"
    }
   ],
   "source": [
    "# create figure\n",
    "nrows = 1\n",
    "ncols = 2\n",
    "fig, ax = plt.subplots(nrows=nrows, ncols=ncols, figsize = (4*ncols, 2.75*nrows), constrained_layout=True, sharey=True)\n",
    "\n",
    "# ax.loglog(lambdas, rmse_sep, marker='o', markersize=5)\n",
    "ax[0].semilogy(np.arange(0,train_loss.shape[0]), np.sqrt(train_loss), linewidth=1.5)\n",
    "ax[1].semilogy(np.arange(0,val_loss.shape[0]), np.sqrt(val_loss), linewidth=1.5, color=sns.color_palette()[1])\n",
    "\n",
    "# set grid\n",
    "ax[0].grid(which='major')\n",
    "ax[1].grid(which='major')\n",
    "# ax.grid(which='minor', linestyle='--', linewidth=0.4)\n",
    "\n",
    "# set labels\n",
    "ax[0].set_xlabel(r'epoch')\n",
    "ax[1].set_xlabel(r'epoch')\n",
    "ax[0].set_ylabel(r'RMSTE $b_{ij}$')\n",
    "ax[1].set_ylabel(r'RMSVE $b_{ij}$')\n",
    "\n",
    "fig_path = '/home/leonriccius/Documents/Leon_MastersThesis/figures_thesis/numerical_results/network_parameters/'\n",
    "fig_name = os.sep.join([fig_path, 'training_validation_error.pdf'])\n",
    "# plt.savefig(fig_name, format='pdf')"
   ]
  }
 ],
 "metadata": {
  "kernelspec": {
   "display_name": "Python 3",
   "language": "python",
   "name": "python3"
  },
  "language_info": {
   "codemirror_mode": {
    "name": "ipython",
    "version": 3
   },
   "file_extension": ".py",
   "mimetype": "text/x-python",
   "name": "python",
   "nbconvert_exporter": "python",
   "pygments_lexer": "ipython3",
   "version": "3.8.5"
  }
 },
 "nbformat": 4,
 "nbformat_minor": 4
}
