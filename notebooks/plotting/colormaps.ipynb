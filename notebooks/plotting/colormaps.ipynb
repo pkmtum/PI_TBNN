{
 "cells": [
  {
   "cell_type": "code",
   "execution_count": 1,
   "metadata": {},
   "outputs": [],
   "source": [
    "# general\n",
    "import sys, os, path\n",
    "import datetime\n",
    "\n",
    "# nn related\n",
    "import torch\n",
    "import torch as th\n",
    "import torch.nn as nn\n",
    "import numpy as np\n",
    "from numpy import linalg as la\n",
    "\n",
    "# postprocessing\n",
    "import matplotlib.pyplot as plt\n",
    "import matplotlib.tri as tri\n",
    "import matplotlib\n",
    "from scipy.interpolate import griddata\n",
    "\n",
    "import seaborn as sns\n",
    "import tikzplotlib as tikz\n",
    "from scipy import ndimage\n",
    "\n",
    "# own scrips\n",
    "sys.path.insert(1, '/home/leonriccius/PycharmProjects/data_driven_rans')\n",
    "\n",
    "from scripts import preProcess\n",
    "from scripts import TensorBasedNN\n",
    "from scripts.TensorBasedNN import TBNN_generic\n",
    "from scripts.utilities import * # get_invariants, get_tensor_functions, sigmoid_scaling, mean_std_scaling\n",
    "from scripts.torchToFoam import writesymmtensor\n",
    "from scripts.barymap import BarMap\n",
    "from scripts import *"
   ]
  },
  {
   "cell_type": "code",
   "execution_count": 2,
   "metadata": {},
   "outputs": [],
   "source": [
    "# matplotlib.use(\"pgf\")\n",
    "# matplotlib.rcParams.update({\n",
    "#     \"pgf.texsystem\": \"pdflatex\",\n",
    "#     'font.family': 'serif',\n",
    "#     'text.usetex': True,\n",
    "#     'pgf.rcfonts': False,\n",
    "# })"
   ]
  },
  {
   "cell_type": "code",
   "execution_count": 3,
   "metadata": {},
   "outputs": [
    {
     "name": "stderr",
     "output_type": "stream",
     "text": [
      "Clipping input data to the valid range for imshow with RGB data ([0..1] for floats or [0..255] for integers).\n",
      "Clipping input data to the valid range for imshow with RGB data ([0..1] for floats or [0..255] for integers).\n"
     ]
    }
   ],
   "source": [
    "nrows = 1\n",
    "ncols = 2\n",
    "\n",
    "barm = BarMap()\n",
    "# fig, ax = plt.subplots(nrows=nrows, ncols=ncols, figsize=(4*ncols,4*nrows), sharey=True, constrained_layout=True)\n",
    "\n",
    "fig_names = ['scaled', 'original']\n",
    "\n",
    "for i in range(ncols):\n",
    "    fig, ax = plt.subplots(figsize=(4,4), constrained_layout=True)\n",
    "    ax.axis('equal')\n",
    "    ax.axis('off')\n",
    "    if i == 0:\n",
    "        barm.get_colormap(ax)\n",
    "    else:\n",
    "        barm.get_colormap(ax, normalized=False)\n",
    "        \n",
    "    ax.text(1.1, -0.0, '1C', fontsize=14,\n",
    "            horizontalalignment='right', verticalalignment='top')\n",
    "    ax.text(-0.13, -0.0, '2C', fontsize=14,\n",
    "            horizontalalignment='left', verticalalignment='top')\n",
    "    ax.text(0.50, 0.88, '3C', fontsize=14,\n",
    "            horizontalalignment='center', verticalalignment='bottom')\n",
    "    \n",
    "    # save figure as pdf\n",
    "    fig_path = '/home/leonriccius/Documents/Leon_MastersThesis/figures_thesis/barycentric_map'\n",
    "    fig_name = 'colormap_' + fig_names[i] + '.pdf'\n",
    "    plt.savefig(os.sep.join([fig_path, fig_name]), format='pdf')\n",
    "    \n",
    "#     # save figure as pgf\n",
    "#     fig_path = '/home/leonriccius/Documents/Leon_MastersThesis/figures_thesis/barycentric_map'\n",
    "#     fig_name = 'colormap_' + fig_names[i] + '.pgf'\n",
    "#     plt.savefig(os.sep.join([fig_path, fig_name]))"
   ]
  },
  {
   "cell_type": "code",
   "execution_count": null,
   "metadata": {},
   "outputs": [],
   "source": []
  }
 ],
 "metadata": {
  "kernelspec": {
   "display_name": "Python 3",
   "language": "python",
   "name": "python3"
  },
  "language_info": {
   "codemirror_mode": {
    "name": "ipython",
    "version": 3
   },
   "file_extension": ".py",
   "mimetype": "text/x-python",
   "name": "python",
   "nbconvert_exporter": "python",
   "pygments_lexer": "ipython3",
   "version": "3.8.5"
  }
 },
 "nbformat": 4,
 "nbformat_minor": 4
}
