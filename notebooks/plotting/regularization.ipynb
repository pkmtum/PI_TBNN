{
 "cells": [
  {
   "cell_type": "code",
   "execution_count": 13,
   "metadata": {},
   "outputs": [],
   "source": [
    "# general\n",
    "import datetime\n",
    "\n",
    "# nn related\n",
    "import torch\n",
    "import torch as th\n",
    "import torch.nn as nn\n",
    "import numpy as np\n",
    "from numpy import linalg as la\n",
    "\n",
    "import matplotlib.pyplot as plt\n",
    "from matplotlib.ticker import (MultipleLocator, FormatStrFormatter,\n",
    "                               AutoMinorLocator)\n",
    "import matplotlib as mpl\n",
    "from matplotlib.transforms import Bbox\n",
    "\n",
    "import sys, re, os, path\n",
    "from matplotlib import axis\n",
    "import seaborn as sns\n",
    "colors=sns.color_palette()\n",
    "\n",
    "# own scrips\n",
    "sys.path.insert(1, '/home/leonriccius/PycharmProjects/data_driven_rans')\n",
    "from scripts.preProcess import readPatchData\n",
    "from scripts.preProcess import readCellCenters\n",
    "from scripts.preProcess import readVectorData\n",
    "from scripts.utilities import *\n",
    "\n",
    "from scripts import preProcess as pre"
   ]
  },
  {
   "cell_type": "code",
   "execution_count": 14,
   "metadata": {},
   "outputs": [],
   "source": [
    "def mse_b_unique(a, b):\n",
    "    return nn.MSELoss()(a[:, [0, 1, 2, 4, 5, 8]], b[:, [0, 1, 2, 4, 5, 8]])"
   ]
  },
  {
   "cell_type": "code",
   "execution_count": 15,
   "metadata": {},
   "outputs": [
    {
     "name": "stdout",
     "output_type": "stream",
     "text": [
      "7000\n"
     ]
    }
   ],
   "source": [
    "# rans data\n",
    "rans_path = '/home/leonriccius/Documents/Fluid_Data/rans_kaandorp/ConvDivChannel/Re7900_kOmega_100'\n",
    "rans_time = max([int(entry) for entry in os.listdir(rans_path) if entry.isnumeric()])\n",
    "print(rans_time)\n",
    "\n",
    "# dns data\n",
    "path_dns = '/home/leonriccius/Documents/Fluid_Data/tensordata_unscaled_inv_corr/ConvDivChannel/7900'\n",
    "b_dns = th.load(os.sep.join([path_dns, 'b_dns-torch.th']))"
   ]
  },
  {
   "cell_type": "code",
   "execution_count": 16,
   "metadata": {},
   "outputs": [
    {
     "name": "stdout",
     "output_type": "stream",
     "text": [
      "['1e+00', '1e-02', '1e-04', '1e-06', '1e-08', '1e-10', '1e-12', '1e-14']\n"
     ]
    }
   ],
   "source": [
    "# define model paths\n",
    "model_base = '/home/leonriccius/PycharmProjects/data_driven_rans/storage/models/kaandorp_data/weight_decay/cdc7900'\n",
    "builtin_path = os.sep.join([model_base, 'builtin'])\n",
    "sep_path = os.sep.join([model_base, 'sep'])\n",
    "\n",
    "# read in parameters\n",
    "folders = sorted([folder for folder in os.listdir(builtin_path) if os.path.isdir(os.sep.join([builtin_path, folder]))], reverse=False)\n",
    "lambdas = np.array(folders, dtype=float)\n",
    "print(folders)\n",
    "\n",
    "# read in mu, std\n",
    "mu = th.load(os.sep.join([sep_path, folders[0], 'mu.th']))\n",
    "std = th.load(os.sep.join([sep_path, folders[0], 'std.th']))"
   ]
  },
  {
   "cell_type": "code",
   "execution_count": 17,
   "metadata": {},
   "outputs": [
    {
     "name": "stdout",
     "output_type": "stream",
     "text": [
      "enforcing 0 trace ...\n"
     ]
    }
   ],
   "source": [
    "with NoStdStreams():\n",
    "    u = pre.readVectorData(rans_time, 'U', rans_path)\n",
    "    grid = pre.readCellCenters(rans_time, rans_path)\n",
    "    rs = pre.readSymTensorData(rans_time, 'turbulenceProperties:R', rans_path).reshape(-1, 3, 3)\n",
    "    grad_u = pre.readTensorData(rans_time, 'grad(U)', rans_path)\n",
    "    grad_k = pre.readVectorData(rans_time, 'grad(k)', rans_path)\n",
    "    grad_p = pre.readVectorData(rans_time, 'grad(p)', rans_path)\n",
    "    y_wall = pre.readScalarData(rans_time, 'wallDistance', rans_path)\n",
    "    k = pre.readScalarData(rans_time, 'k', rans_path)\n",
    "    omega = pre.readScalarData(rans_time, 'omega', rans_path)  # 'epsilon' or 'omega'\n",
    "    epsilon = omega * k * 0.09  # 0.09 is beta star\n",
    "    nu = 3.5714285714285714e-04\n",
    "\n",
    "# get b_rans\n",
    "b_rans = anisotropy(rs, k)\n",
    "\n",
    "# calculate mean rate of strain and rotation tensors\n",
    "s = 0.5 * (grad_u + grad_u.transpose(1, 2))\n",
    "r = 0.5 * (grad_u - grad_u.transpose(1, 2))\n",
    "\n",
    "# normalize s and r\n",
    "s_hat = (k / epsilon).unsqueeze(1).unsqueeze(2) * s\n",
    "r_hat = (k / epsilon).unsqueeze(1).unsqueeze(2) * r\n",
    "grad_k_hat = (th.sqrt(k) / epsilon).unsqueeze(1) * grad_k\n",
    "\n",
    "# capping tensors\n",
    "s_hat = cap_tensor(s_hat, 6.0)\n",
    "r_hat = cap_tensor(r_hat, 6.0)\n",
    "\n",
    "t = get_tensor_functions(s_hat, r_hat)\n",
    "t = enforce_zero_trace(t.reshape(-1,10,3,3)).reshape(-1,10,9)\n",
    "\n",
    "# get invariants and remove features\n",
    "inv_fs1 = get_invariants(s_hat, r_hat)\n",
    "for i in [3,4][::-1]:  # must be in reverse of indices are wrong\n",
    "    inv_fs1 = th.cat((inv_fs1[:, :i - 1], inv_fs1[:, i:]), dim=1)\n",
    "\n",
    "inv_fs2 = get_invariants_fs2(s_hat, r_hat, grad_k_hat)\n",
    "for i in [4, 5, 6, 7, 8, 10, 11, 12][::-1]:  # must be in reverse of indices are wrong\n",
    "    inv_fs2 = th.cat((inv_fs2[:, :i - 1], inv_fs2[:, i:]), dim=1)\n",
    "\n",
    "inv_fs3 = get_invariants_fs3(s, r, rs, u, grad_u, grad_p, grad_k, k, epsilon, y_wall, nu)\n",
    "\n",
    "# concatente invarians to one tensor\n",
    "inv = th.cat((inv_fs1, inv_fs2, inv_fs3), dim=1)\n",
    "inv_mean_std = mean_std_scaling(inv, mu=mu, std=std)[0]"
   ]
  },
  {
   "cell_type": "code",
   "execution_count": 18,
   "metadata": {},
   "outputs": [],
   "source": [
    "rmse_sep = np.array([])\n",
    "rmse_sep_filt_1 = np.array([])\n",
    "rmse_sep_filt_2 = np.array([])\n",
    "rmse_sep_filt_3 = np.array([])\n",
    "\n",
    "\n",
    "rmse_builtin = np.array([])\n",
    "rmse_builtin_filt_1 = np.array([])\n",
    "rmse_builtin_filt_2 = np.array([])\n",
    "rmse_builtin_filt_3 = np.array([])\n",
    "rmse_builtin_filt_5 = np.array([])\n",
    "\n",
    "\n",
    "for f, folder in enumerate(folders):\n",
    "    \n",
    "    # load in models\n",
    "    model_sep = th.load(os.sep.join([sep_path, folder, 'model.pt']))\n",
    "    model_sep.eval()\n",
    "    model_builtin = th.load(os.sep.join([builtin_path, folder, 'model.pt']))\n",
    "    model_builtin.eval()\n",
    "    mu = th.load(os.sep.join([sep_path, folder, 'mu.th']))\n",
    "    std = th.load(os.sep.join([sep_path, folder, 'std.th']))\n",
    "    \n",
    "    # get predictions\n",
    "    b_sep, _ = model_sep(inv_mean_std, t)\n",
    "    b_sep = b_sep.reshape(-1,3,3).detach()\n",
    "    b_builtin, _ = model_builtin(inv_mean_std, t)\n",
    "    b_builtin = b_builtin.reshape(-1,3,3).detach()\n",
    "    \n",
    "    # filter b_pred\n",
    "    nx, ny = 140, 100\n",
    "    b_sep_reshaped = b_sep.reshape(ny,nx,3,3).permute(2,3,0,1).detach().numpy()\n",
    "    b_sep_filt_1 = th.from_numpy(filterField(b_sep_reshaped, std=1)).reshape(3,3,-1).permute(2,0,1)\n",
    "    b_sep_filt_2 = th.from_numpy(filterField(b_sep_reshaped, std=2)).reshape(3,3,-1).permute(2,0,1)\n",
    "    b_sep_filt_3 = th.from_numpy(filterField(b_sep_reshaped, std=3)).reshape(3,3,-1).permute(2,0,1)\n",
    "    \n",
    "    b_builtin_reshaped = b_builtin.reshape(ny,nx,3,3).permute(2,3,0,1).detach().numpy()\n",
    "    b_builtin_filt_1 = th.from_numpy(filterField(b_builtin_reshaped, std=1)).reshape(3,3,-1).permute(2,0,1)\n",
    "    b_builtin_filt_2 = th.from_numpy(filterField(b_builtin_reshaped, std=2)).reshape(3,3,-1).permute(2,0,1)\n",
    "    b_builtin_filt_3 = th.from_numpy(filterField(b_builtin_reshaped, std=3)).reshape(3,3,-1).permute(2,0,1)\n",
    "    b_builtin_filt_5 = th.from_numpy(filterField(b_builtin_reshaped, std=10)).reshape(3,3,-1).permute(2,0,1)\n",
    "    \n",
    "    rmse_sep = np.append(rmse_sep, th.sqrt(mse_b_unique(b_sep.reshape(-1,9), b_dns.reshape(-1,9))).numpy())\n",
    "    rmse_sep_filt_1 = np.append(rmse_sep_filt_1, th.sqrt(mse_b_unique(b_sep_filt_1.reshape(-1,9), b_dns.reshape(-1,9))).numpy())\n",
    "    rmse_sep_filt_2 = np.append(rmse_sep_filt_2, th.sqrt(mse_b_unique(b_sep_filt_2.reshape(-1,9), b_dns.reshape(-1,9))).numpy())\n",
    "    rmse_sep_filt_3 = np.append(rmse_sep_filt_3, th.sqrt(mse_b_unique(b_sep_filt_3.reshape(-1,9), b_dns.reshape(-1,9))).numpy())\n",
    "    \n",
    "    rmse_builtin = np.append(rmse_builtin, th.sqrt(mse_b_unique(b_builtin.reshape(-1,9), b_dns.reshape(-1,9))).numpy())\n",
    "    rmse_builtin_filt_1 = np.append(rmse_builtin_filt_1, th.sqrt(mse_b_unique(b_builtin_filt_1.reshape(-1,9), b_dns.reshape(-1,9))).numpy())\n",
    "    rmse_builtin_filt_2 = np.append(rmse_builtin_filt_2, th.sqrt(mse_b_unique(b_builtin_filt_2.reshape(-1,9), b_dns.reshape(-1,9))).numpy())\n",
    "    rmse_builtin_filt_3 = np.append(rmse_builtin_filt_3, th.sqrt(mse_b_unique(b_builtin_filt_3.reshape(-1,9), b_dns.reshape(-1,9))).numpy())\n",
    "    rmse_builtin_filt_5 = np.append(rmse_builtin_filt_5, th.sqrt(mse_b_unique(b_builtin_filt_5.reshape(-1,9), b_dns.reshape(-1,9))).numpy())"
   ]
  },
  {
   "cell_type": "code",
   "execution_count": 19,
   "metadata": {},
   "outputs": [
    {
     "data": {
      "text/plain": [
       "8"
      ]
     },
     "execution_count": 19,
     "metadata": {},
     "output_type": "execute_result"
    }
   ],
   "source": [
    "len(lambdas)"
   ]
  },
  {
   "cell_type": "code",
   "execution_count": 20,
   "metadata": {},
   "outputs": [
    {
     "data": {
      "image/png": "[encoded data removed]",
      "text/plain": [
       "<Figure size 504x234 with 1 Axes>"
      ]
     },
     "metadata": {
      "needs_background": "light"
     },
     "output_type": "display_data"
    }
   ],
   "source": [
    "# create figure\n",
    "nrows = 1\n",
    "ncols = 1\n",
    "fig, ax = plt.subplots(nrows=nrows, ncols=ncols, figsize = (7*ncols, 3.25*nrows), constrained_layout=True)\n",
    "\n",
    "ax.loglog(lambdas, rmse_builtin, marker='o', markersize=6)\n",
    "ax.loglog(lambdas, rmse_builtin_filt_1, marker='^', markersize=5) #, linestyle='-.')\n",
    "ax.loglog(lambdas, rmse_builtin_filt_2, marker='x', markersize=5) #, linestyle='--')\n",
    "ax.loglog(lambdas, rmse_builtin_filt_3, marker='D', markersize=5) #, linestyle=':')\n",
    "\n",
    "# set minor ticks\n",
    "ax.set_xticks(lambdas)\n",
    "ax.legend([r'no filtering', r'$\\sigma = 1$', r'$\\sigma = 2$', r'$\\sigma = 3$'])\n",
    "\n",
    "# set grid\n",
    "ax.grid(which='major')\n",
    "ax.grid(which='minor', linestyle='--', linewidth=0.4)\n",
    "\n",
    "# set labels\n",
    "ax.set_xlabel(r'$\\alpha$')\n",
    "ax.set_ylabel(r'RMSE $b_{ij}$')\n",
    "\n",
    "fig_path = '/home/leonriccius/Documents/Leon_MastersThesis/figures_thesis/numerical_results/network_parameters/'\n",
    "fig_name = os.sep.join([fig_path, 'regularization_filtering.pdf'])\n",
    "# plt.savefig(fig_name, format='pdf')"
   ]
  }
 ],
 "metadata": {
  "kernelspec": {
   "display_name": "Python 3",
   "language": "python",
   "name": "python3"
  },
  "language_info": {
   "codemirror_mode": {
    "name": "ipython",
    "version": 3
   },
   "file_extension": ".py",
   "mimetype": "text/x-python",
   "name": "python",
   "nbconvert_exporter": "python",
   "pygments_lexer": "ipython3",
   "version": "3.8.5"
  }
 },
 "nbformat": 4,
 "nbformat_minor": 4
}
