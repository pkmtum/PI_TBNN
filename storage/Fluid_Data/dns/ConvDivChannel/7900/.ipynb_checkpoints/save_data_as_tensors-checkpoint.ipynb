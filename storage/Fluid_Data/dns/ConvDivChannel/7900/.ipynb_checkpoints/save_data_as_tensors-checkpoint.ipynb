{
 "cells": [
  {
   "cell_type": "code",
   "execution_count": 1,
   "metadata": {},
   "outputs": [],
   "source": [
    "from netCDF4 import Dataset\n",
    "import matplotlib\n",
    "from pylab import*\n",
    "import numpy as np\n",
    "import scipy.interpolate\n",
    "import matplotlib.colors\n",
    "import sys\n",
    "import matplotlib.pyplot as plt\n",
    "import torch as th"
   ]
  },
  {
   "cell_type": "code",
   "execution_count": 2,
   "metadata": {},
   "outputs": [],
   "source": [
    "ncfile = Dataset('APG_400_statistics_2d.nc','r')\n",
    "\n",
    "u = ncfile.variables['mean_u_xyz']\n",
    "ny,nx = u.shape"
   ]
  },
  {
   "cell_type": "code",
   "execution_count": 3,
   "metadata": {},
   "outputs": [],
   "source": [
    "grid_x = np.array(ncfile.variables['grid_x'][0:nx]).squeeze()\n",
    "grid_y = np.array(ncfile.variables['grid_yx'][0:ny,0:nx]).squeeze()"
   ]
  },
  {
   "cell_type": "code",
   "execution_count": 4,
   "metadata": {},
   "outputs": [],
   "source": [
    "# grid points\n",
    "expanded_grid_x = np.full((257, 1536), grid_x)\n",
    "grid = np.array([expanded_grid_x.flatten(), grid_y.flatten()]).T\n",
    "grid_torch = th.DoubleTensor(grid)"
   ]
  },
  {
   "cell_type": "code",
   "execution_count": 5,
   "metadata": {},
   "outputs": [],
   "source": [
    "# fig, ax = plt.subplots(figsize = (30,20))\n",
    "# ax.scatter(expanded_grid.flatten(), grid_y.flatten(),s=0.01)"
   ]
  },
  {
   "cell_type": "code",
   "execution_count": 6,
   "metadata": {},
   "outputs": [],
   "source": [
    "# mean velocity field\n",
    "um = np.array(ncfile.variables['mean_u_xyz'][0:ny,0:nx]).squeeze().flatten()\n",
    "vm = np.array(ncfile.variables['mean_v_xyz'][0:ny,0:nx]).squeeze().flatten()\n",
    "wm = np.array(ncfile.variables['mean_w_xyz'][0:ny,0:nx]).squeeze().flatten()\n",
    "\n",
    "U = np.array([um, vm, wm]).T\n",
    "U_torch = th.DoubleTensor(U)\n",
    "\n",
    "# mean pressure field\n",
    "p = np.array(ncfile.variables['mean_p_xyz'][0:ny,0:nx]).squeeze().flatten()\n",
    "p_torch = th.DoubleTensor(p)"
   ]
  },
  {
   "cell_type": "code",
   "execution_count": 7,
   "metadata": {},
   "outputs": [],
   "source": [
    "# Reynolds Stress tensor and turbulent kinetic energy\n",
    "uu = np.array(ncfile.variables['reynolds_stress_uu_xyz'][0:ny,0:nx]).squeeze().flatten()\n",
    "vv = np.array(ncfile.variables['reynolds_stress_vv_xyz'][0:ny,0:nx]).squeeze().flatten()\n",
    "ww = np.array(ncfile.variables['reynolds_stress_ww_xyz'][0:ny,0:nx]).squeeze().flatten()\n",
    "uv = np.array(ncfile.variables['reynolds_stress_uv_xyz'][0:ny,0:nx]).squeeze().flatten()\n",
    "uw = np.array(ncfile.variables['reynolds_stress_uw_xyz'][0:ny,0:nx]).squeeze().flatten()\n",
    "vw = np.array(ncfile.variables['reynolds_stress_vw_xyz'][0:ny,0:nx]).squeeze().flatten()\n",
    "\n",
    "RS = np.array([uu,uv,uw,uv,vv,vw,uw,vw,ww]).T.reshape(-1,3,3)#.T.reshape((-1,3,3))\n",
    "RS_torch = th.DoubleTensor(RS)\n",
    "k = 0.5*(uu + vv + ww)\n",
    "k_torch = th.DoubleTensor(k)"
   ]
  },
  {
   "cell_type": "code",
   "execution_count": 8,
   "metadata": {},
   "outputs": [],
   "source": [
    "# # saving tensors\n",
    "# th.save(U_torch, 'tensordata/U-torch.th')\n",
    "# th.save(p_torch, 'tensordata/p-torch.th')\n",
    "# th.save(RS_torch, 'tensordata/RS-torch.th')\n",
    "# th.save(k_torch, 'tensordata/k-torch.th')\n",
    "# th.save(grid_torch, 'tensordata/cellCenters-torch.th')"
   ]
  },
  {
   "cell_type": "code",
   "execution_count": 9,
   "metadata": {},
   "outputs": [],
   "source": [
    "bottom_points = np.array([grid_x, grid_y[0,:]]).T\n",
    "header = 'TITLE     = \\\"Lower surface points for converging-diverging channel\\\" \\ņ FROM https://turbmodels.larc.nasa.gov/Other_DNS_Data/Conv-div-channel/surface_points.dat \\n VARIABLES = \"X\",\"Y\"'"
   ]
  },
  {
   "cell_type": "code",
   "execution_count": 10,
   "metadata": {},
   "outputs": [],
   "source": [
    "# np.savetxt('test_table.dat', bottom_points, fmt=['%1.8E', '%1.8E'],\n",
    "#            header=header) #'X,   Y', # comments='# ')"
   ]
  },
  {
   "cell_type": "code",
   "execution_count": 11,
   "metadata": {},
   "outputs": [],
   "source": [
    "mask = np.where(grid[:,0]==0)\n",
    "grid_0 = grid[mask,:].squeeze()\n",
    "U_0 = U[mask,:].squeeze()"
   ]
  },
  {
   "cell_type": "code",
   "execution_count": 12,
   "metadata": {},
   "outputs": [
    {
     "data": {
      "text/plain": [
       "[<matplotlib.lines.Line2D at 0x7f2020c1c880>]"
      ]
     },
     "execution_count": 12,
     "metadata": {},
     "output_type": "execute_result"
    },
    {
     "data": {
      "image/png": "[encoded data removed]",
      "text/plain": [
       "<Figure size 432x288 with 1 Axes>"
      ]
     },
     "metadata": {
      "needs_background": "light"
     },
     "output_type": "display_data"
    }
   ],
   "source": [
    "fig, ax = plt.subplots()\n",
    "ax.plot(U_0[:,0],grid_y[:,0])"
   ]
  },
  {
   "cell_type": "code",
   "execution_count": 13,
   "metadata": {},
   "outputs": [
    {
     "data": {
      "text/plain": [
       "(257, 2)"
      ]
     },
     "execution_count": 13,
     "metadata": {},
     "output_type": "execute_result"
    }
   ],
   "source": [
    "grid_0.shape"
   ]
  },
  {
   "cell_type": "code",
   "execution_count": 14,
   "metadata": {},
   "outputs": [],
   "source": [
    "inflow_grid = np.genfromtxt('inflow_boundary_points_2d')#,dtype =(float,float,float))#.reshape(-1,3)\n",
    "length = inflow_grid.shape[0]"
   ]
  },
  {
   "cell_type": "code",
   "execution_count": 15,
   "metadata": {},
   "outputs": [],
   "source": [
    "unique_z = np.unique(inflow_grid[:,2])\n",
    "mask = np.where(inflow_grid[:,2]==0.03)"
   ]
  },
  {
   "cell_type": "code",
   "execution_count": 16,
   "metadata": {},
   "outputs": [],
   "source": [
    "f_x = scipy.interpolate.interp1d(grid_0[:,1],U_0[:,0])\n",
    "f_y = scipy.interpolate.interp1d(grid_0[:,1],U_0[:,1])\n",
    "f_z = scipy.interpolate.interp1d(grid_0[:,1],U_0[:,2])\n",
    "\n",
    "U_inflow_0 = np.array([f_x(inflow_grid[mask,1].squeeze()),\n",
    "                       f_y(inflow_grid[mask,1].squeeze()),\n",
    "                       f_z(inflow_grid[mask,1].squeeze())]).T"
   ]
  },
  {
   "cell_type": "code",
   "execution_count": 17,
   "metadata": {},
   "outputs": [
    {
     "data": {
      "text/plain": [
       "array([[ 1.40390686e-01,  7.69795636e-06,  0.00000000e+00],\n",
       "       [ 3.72469648e-01,  7.27755787e-05,  0.00000000e+00],\n",
       "       [ 5.25917950e-01,  2.22778663e-04,  0.00000000e+00],\n",
       "       [ 6.19512674e-01,  4.26285879e-04,  0.00000000e+00],\n",
       "       [ 6.79366900e-01,  6.45497303e-04,  0.00000000e+00],\n",
       "       [ 7.21192993e-01,  8.48198176e-04,  0.00000000e+00],\n",
       "       [ 7.52491663e-01,  9.90301348e-04,  0.00000000e+00],\n",
       "       [ 7.77108395e-01,  1.00581428e-03,  0.00000000e+00],\n",
       "       [ 7.97912259e-01,  8.93387602e-04,  0.00000000e+00],\n",
       "       [ 8.15535875e-01,  7.34105846e-04,  0.00000000e+00],\n",
       "       [ 8.31235864e-01,  6.05106873e-04,  0.00000000e+00],\n",
       "       [ 8.46447628e-01,  4.78248410e-04,  0.00000000e+00],\n",
       "       [ 8.60956727e-01,  3.09778048e-04,  0.00000000e+00],\n",
       "       [ 8.74773224e-01,  1.07262145e-05,  0.00000000e+00],\n",
       "       [ 8.88977863e-01, -3.59394596e-04,  0.00000000e+00],\n",
       "       [ 9.03849039e-01, -7.24880260e-04,  0.00000000e+00],\n",
       "       [ 9.18363654e-01, -1.08056475e-03,  0.00000000e+00],\n",
       "       [ 9.32441625e-01, -1.31643282e-03,  0.00000000e+00],\n",
       "       [ 9.46321745e-01, -1.34978236e-03,  0.00000000e+00],\n",
       "       [ 9.60087846e-01, -1.29015281e-03,  0.00000000e+00],\n",
       "       [ 9.72890460e-01, -1.23728307e-03,  0.00000000e+00],\n",
       "       [ 9.85209376e-01, -1.09729956e-03,  0.00000000e+00],\n",
       "       [ 9.96910387e-01, -9.02586716e-04,  0.00000000e+00],\n",
       "       [ 1.00750661e+00, -7.52731583e-04,  0.00000000e+00],\n",
       "       [ 1.01785703e+00, -6.57829022e-04,  0.00000000e+00],\n",
       "       [ 1.02687264e+00, -5.53637754e-04,  0.00000000e+00],\n",
       "       [ 1.03463741e+00, -4.56841302e-04,  0.00000000e+00],\n",
       "       [ 1.04097801e+00, -1.84441124e-04,  0.00000000e+00],\n",
       "       [ 1.04518828e+00,  2.35247108e-04,  0.00000000e+00],\n",
       "       [ 1.04664867e+00,  7.13710012e-04,  0.00000000e+00],\n",
       "       [ 1.04483785e+00,  1.23819297e-03,  0.00000000e+00],\n",
       "       [ 1.04061920e+00,  1.58833968e-03,  0.00000000e+00],\n",
       "       [ 1.03461756e+00,  1.75930437e-03,  0.00000000e+00],\n",
       "       [ 1.02671914e+00,  1.82633494e-03,  0.00000000e+00],\n",
       "       [ 1.01699291e+00,  1.82860603e-03,  0.00000000e+00],\n",
       "       [ 1.00654868e+00,  1.83354971e-03,  0.00000000e+00],\n",
       "       [ 9.95236266e-01,  1.80457769e-03,  0.00000000e+00],\n",
       "       [ 9.81961741e-01,  1.82703322e-03,  0.00000000e+00],\n",
       "       [ 9.68308258e-01,  1.68077315e-03,  0.00000000e+00],\n",
       "       [ 9.55093207e-01,  1.43034925e-03,  0.00000000e+00],\n",
       "       [ 9.41773039e-01,  1.17863377e-03,  0.00000000e+00],\n",
       "       [ 9.27944543e-01,  9.97064339e-04,  0.00000000e+00],\n",
       "       [ 9.13468895e-01,  8.62842331e-04,  0.00000000e+00],\n",
       "       [ 8.98098112e-01,  8.29317015e-04,  0.00000000e+00],\n",
       "       [ 8.82965035e-01,  7.57368527e-04,  0.00000000e+00],\n",
       "       [ 8.67681234e-01,  6.25529550e-04,  0.00000000e+00],\n",
       "       [ 8.51121208e-01,  6.37082775e-04,  0.00000000e+00],\n",
       "       [ 8.33450364e-01,  8.26901311e-04,  0.00000000e+00],\n",
       "       [ 8.15415849e-01,  9.71422197e-04,  0.00000000e+00],\n",
       "       [ 7.96654700e-01,  1.02777880e-03,  0.00000000e+00],\n",
       "       [ 7.76180700e-01,  1.07516931e-03,  0.00000000e+00],\n",
       "       [ 7.53258074e-01,  1.12803213e-03,  0.00000000e+00],\n",
       "       [ 7.26236465e-01,  1.08511933e-03,  0.00000000e+00],\n",
       "       [ 6.89045663e-01,  9.40875836e-04,  0.00000000e+00],\n",
       "       [ 6.32388181e-01,  7.31221823e-04,  0.00000000e+00],\n",
       "       [ 5.41735547e-01,  4.24923222e-04,  0.00000000e+00],\n",
       "       [ 3.86425860e-01,  1.46718707e-04,  0.00000000e+00],\n",
       "       [ 1.45868411e-01,  1.53567992e-05,  0.00000000e+00]])"
      ]
     },
     "execution_count": 17,
     "metadata": {},
     "output_type": "execute_result"
    }
   ],
   "source": [
    "U_inflow = np.empty(inflow_grid.shape)\n",
    "for i,val in enumerate(unique_z):\n",
    "    mask = np.where(inflow_grid[:,2]==val)\n",
    "    U_inflow[mask,:] = U_inflow_0\n",
    "\n",
    "U_inflow"
   ]
  },
  {
   "cell_type": "code",
   "execution_count": 18,
   "metadata": {},
   "outputs": [
    {
     "data": {
      "text/plain": [
       "[<matplotlib.lines.Line2D at 0x7f201eb19d60>]"
      ]
     },
     "execution_count": 18,
     "metadata": {},
     "output_type": "execute_result"
    },
    {
     "data": {
      "image/png": "[encoded data removed]",
      "text/plain": [
       "<Figure size 432x288 with 1 Axes>"
      ]
     },
     "metadata": {
      "needs_background": "light"
     },
     "output_type": "display_data"
    }
   ],
   "source": [
    "mask = np.where(inflow_grid[:,2]==2.43)\n",
    "fig, ax = plt.subplots()\n",
    "ax.plot(U_inflow[mask,0].squeeze(), inflow_grid[mask,1].squeeze())"
   ]
  },
  {
   "cell_type": "code",
   "execution_count": 19,
   "metadata": {},
   "outputs": [
    {
     "data": {
      "text/plain": [
       "[<matplotlib.lines.Line2D at 0x7f201eaf2f70>]"
      ]
     },
     "execution_count": 19,
     "metadata": {},
     "output_type": "execute_result"
    },
    {
     "data": {
      "image/png": "[encoded data removed]",
      "text/plain": [
       "<Figure size 432x288 with 1 Axes>"
      ]
     },
     "metadata": {
      "needs_background": "light"
     },
     "output_type": "display_data"
    }
   ],
   "source": [
    "fig, ax = plt.subplots()\n",
    "ax.plot(f_x(inflow_grid[mask,1].squeeze()), inflow_grid[mask,1].squeeze())"
   ]
  },
  {
   "cell_type": "code",
   "execution_count": 21,
   "metadata": {},
   "outputs": [],
   "source": [
    "# fh = open('inflow_boundary_2d_foam','w')\n",
    "# for points in U_inflow:\n",
    "#     fh.write('(%.9f %.9f %.9f)\\n' % (points[0], points[1], points[2]))\n",
    "# fh.close()"
   ]
  }
 ],
 "metadata": {
  "kernelspec": {
   "display_name": "Python 3",
   "language": "python",
   "name": "python3"
  },
  "language_info": {
   "codemirror_mode": {
    "name": "ipython",
    "version": 3
   },
   "file_extension": ".py",
   "mimetype": "text/x-python",
   "name": "python",
   "nbconvert_exporter": "python",
   "pygments_lexer": "ipython3",
   "version": "3.8.5"
  }
 },
 "nbformat": 4,
 "nbformat_minor": 4
}
