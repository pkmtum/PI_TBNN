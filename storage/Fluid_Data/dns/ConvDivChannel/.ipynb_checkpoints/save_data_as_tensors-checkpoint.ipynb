{
 "cells": [
  {
   "cell_type": "code",
   "execution_count": 1,
   "metadata": {},
   "outputs": [],
   "source": [
    "from netCDF4 import Dataset\n",
    "import matplotlib\n",
    "from pylab import*\n",
    "import numpy as np\n",
    "import scipy.interpolate\n",
    "import matplotlib.colors\n",
    "import sys\n",
    "import matplotlib.pyplot as plt\n",
    "import torch as th\n",
    "\n",
    "sys.path.insert(1, '/home/leonriccius/PycharmProjects/data_driven_rans')\n",
    "from scripts.utilities import *"
   ]
  },
  {
   "cell_type": "code",
   "execution_count": 2,
   "metadata": {},
   "outputs": [],
   "source": [
    "case = '12600'\n",
    "ncfile = Dataset('12600/APG_600_statistics_2d.nc','r')\n",
    "# case = '7900'\n",
    "# ncfile = Dataset(case + '/APG_400_statistics_2d.nc','r')\n",
    "\n",
    "u = ncfile.variables['mean_u_xyz']\n",
    "ny,nx = u.shape"
   ]
  },
  {
   "cell_type": "code",
   "execution_count": 3,
   "metadata": {},
   "outputs": [
    {
     "data": {
      "text/plain": [
       "(385, 2304)"
      ]
     },
     "execution_count": 3,
     "metadata": {},
     "output_type": "execute_result"
    }
   ],
   "source": [
    "grid_x = np.array(ncfile.variables['grid_x'][0:nx]).squeeze()\n",
    "grid_y = np.array(ncfile.variables['grid_yx'][0:ny,0:nx]).squeeze()\n",
    "grid_y.shape"
   ]
  },
  {
   "cell_type": "code",
   "execution_count": 4,
   "metadata": {},
   "outputs": [],
   "source": [
    "# grid points\n",
    "expanded_grid_x = np.full(grid_y.shape, grid_x)\n",
    "grid = np.array([expanded_grid_x.flatten(), grid_y.flatten()]).T\n",
    "grid_torch = th.DoubleTensor(grid)"
   ]
  },
  {
   "cell_type": "code",
   "execution_count": 5,
   "metadata": {},
   "outputs": [],
   "source": [
    "# mean velocity field\n",
    "um = np.array(ncfile.variables['mean_u_xyz'][0:ny,0:nx]).squeeze().flatten()\n",
    "vm = np.array(ncfile.variables['mean_v_xyz'][0:ny,0:nx]).squeeze().flatten()\n",
    "wm = np.array(ncfile.variables['mean_w_xyz'][0:ny,0:nx]).squeeze().flatten()\n",
    "\n",
    "U = np.array([um, vm, wm]).T\n",
    "U_torch = th.DoubleTensor(U)\n",
    "\n",
    "# mean pressure field\n",
    "p = np.array(ncfile.variables['mean_p_xyz'][0:ny,0:nx]).squeeze().flatten()\n",
    "p_torch = th.DoubleTensor(p)"
   ]
  },
  {
   "cell_type": "code",
   "execution_count": 6,
   "metadata": {},
   "outputs": [],
   "source": [
    "# fig, ax = plt.subplots()\n",
    "# ax.scatter(grid[:,0], grid[:,1])"
   ]
  },
  {
   "cell_type": "code",
   "execution_count": 7,
   "metadata": {},
   "outputs": [
    {
     "name": "stdout",
     "output_type": "stream",
     "text": [
      "Warning, b contains nan entries. Consider removing nan data points\n",
      "Remove nan entries\n",
      "tensor([[ 3.7223e-01, -9.5473e-05,  1.8025e-05],\n",
      "        [-9.5473e-05, -3.3321e-01,  3.6949e-08],\n",
      "        [ 1.8025e-05,  3.6949e-08, -3.9018e-02]], dtype=torch.float64)\n"
     ]
    }
   ],
   "source": [
    "# Reynolds Stress tensor and turbulent kinetic energy\n",
    "uu = np.array(ncfile.variables['reynolds_stress_uu_xyz'][0:ny,0:nx]).squeeze().flatten()\n",
    "vv = np.array(ncfile.variables['reynolds_stress_vv_xyz'][0:ny,0:nx]).squeeze().flatten()\n",
    "ww = np.array(ncfile.variables['reynolds_stress_ww_xyz'][0:ny,0:nx]).squeeze().flatten()\n",
    "uv = np.array(ncfile.variables['reynolds_stress_uv_xyz'][0:ny,0:nx]).squeeze().flatten()\n",
    "uw = np.array(ncfile.variables['reynolds_stress_uw_xyz'][0:ny,0:nx]).squeeze().flatten()\n",
    "vw = np.array(ncfile.variables['reynolds_stress_vw_xyz'][0:ny,0:nx]).squeeze().flatten()\n",
    "\n",
    "rs = np.array([uu,uv,uw,uv,vv,vw,uw,vw,ww]).T.reshape(-1,3,3)#.T.reshape((-1,3,3))\n",
    "rs_torch = th.DoubleTensor(rs)\n",
    "k = 0.5*(uu + vv + ww)\n",
    "k_torch = th.DoubleTensor(k)\n",
    "\n",
    "# compute b\n",
    "b = anisotropy(rs_torch, k_torch)\n",
    "\n",
    "# check if b contains nan:\n",
    "if th.max(th.isnan(b)):\n",
    "    print('Remove nan entries')\n",
    "    index = (th.isnan(b)==False)[:,0,0]\n",
    "    b = b[index]\n",
    "    rs_torch = rs_torch[index]\n",
    "    grid_torch = grid_torch[index]\n",
    "    k_torch = k_torch[index]\n",
    "    U_torch = U_torch[index]\n",
    "    p_torch = p_torch[index]\n",
    "\n",
    "print(b[0])"
   ]
  },
  {
   "cell_type": "code",
   "execution_count": 8,
   "metadata": {},
   "outputs": [],
   "source": [
    "# # saving tensors\n",
    "th.save(U_torch, case + '/tensordata/u-torch.th')\n",
    "th.save(p_torch, case + '/tensordata/p-torch.th')\n",
    "th.save(rs_torch, case + '/tensordata/rs-torch.th')\n",
    "th.save(k_torch, case +'/tensordata/k-torch.th')\n",
    "th.save(b, case +'/tensordata/b-torch.th')\n",
    "th.save(grid_torch, case +'/tensordata/grid-torch.th')"
   ]
  },
  {
   "cell_type": "code",
   "execution_count": null,
   "metadata": {},
   "outputs": [],
   "source": [
    "bottom_points = np.array([grid_x, grid_y[0,:]]).T\n",
    "header = 'TITLE     = \\\"Lower surface points for converging-diverging channel\\\" \\ņ FROM https://turbmodels.larc.nasa.gov/Other_DNS_Data/Conv-div-channel/surface_points.dat \\n VARIABLES = \"X\",\"Y\"'"
   ]
  },
  {
   "cell_type": "code",
   "execution_count": null,
   "metadata": {},
   "outputs": [],
   "source": [
    "# np.savetxt('test_table.dat', bottom_points, fmt=['%1.8E', '%1.8E'],\n",
    "#            header=header) #'X,   Y', # comments='# ')"
   ]
  },
  {
   "cell_type": "code",
   "execution_count": null,
   "metadata": {},
   "outputs": [],
   "source": [
    "mask = np.where(grid[:,0]==0)\n",
    "grid_0 = grid[mask,:].squeeze()\n",
    "U_0 = U[mask,:].squeeze()"
   ]
  },
  {
   "cell_type": "code",
   "execution_count": null,
   "metadata": {},
   "outputs": [],
   "source": [
    "fig, ax = plt.subplots()\n",
    "ax.plot(U_0[:,0],grid_y[:,0])"
   ]
  },
  {
   "cell_type": "code",
   "execution_count": null,
   "metadata": {},
   "outputs": [],
   "source": [
    "grid_0.shape"
   ]
  },
  {
   "cell_type": "code",
   "execution_count": null,
   "metadata": {},
   "outputs": [],
   "source": [
    "inflow_grid = np.genfromtxt('12600/inflow_boundary_points_2d')#,dtype =(float,float,float))#.reshape(-1,3)\n",
    "length = inflow_grid.shape[0]"
   ]
  },
  {
   "cell_type": "code",
   "execution_count": null,
   "metadata": {},
   "outputs": [],
   "source": [
    "unique_z = np.unique(inflow_grid[:,2])\n",
    "mask = np.where(inflow_grid[:,2]==0.03)"
   ]
  },
  {
   "cell_type": "code",
   "execution_count": null,
   "metadata": {},
   "outputs": [],
   "source": [
    "f_x = scipy.interpolate.interp1d(grid_0[:,1],U_0[:,0])\n",
    "f_y = scipy.interpolate.interp1d(grid_0[:,1],U_0[:,1])\n",
    "f_z = scipy.interpolate.interp1d(grid_0[:,1],U_0[:,2])\n",
    "\n",
    "U_inflow_0 = np.array([f_x(inflow_grid[mask,1].squeeze()),\n",
    "                       f_y(inflow_grid[mask,1].squeeze()),\n",
    "                       f_z(inflow_grid[mask,1].squeeze())]).T"
   ]
  },
  {
   "cell_type": "code",
   "execution_count": null,
   "metadata": {},
   "outputs": [],
   "source": [
    "U_inflow = np.empty(inflow_grid.shape)\n",
    "for i,val in enumerate(unique_z):\n",
    "    mask = np.where(inflow_grid[:,2]==val)\n",
    "    U_inflow[mask,:] = U_inflow_0\n",
    "\n",
    "U_inflow"
   ]
  },
  {
   "cell_type": "code",
   "execution_count": null,
   "metadata": {},
   "outputs": [],
   "source": [
    "mask = np.where(inflow_grid[:,2]==2.43)\n",
    "fig, ax = plt.subplots()\n",
    "ax.plot(U_inflow[mask,0].squeeze(), inflow_grid[mask,1].squeeze())"
   ]
  },
  {
   "cell_type": "code",
   "execution_count": null,
   "metadata": {},
   "outputs": [],
   "source": [
    "fig, ax = plt.subplots()\n",
    "ax.plot(f_x(inflow_grid[mask,1].squeeze()), inflow_grid[mask,1].squeeze())"
   ]
  },
  {
   "cell_type": "code",
   "execution_count": null,
   "metadata": {},
   "outputs": [],
   "source": [
    "# fh = open('12600/inflow_boundary_foam_2d','w')\n",
    "# for points in U_inflow:\n",
    "#     fh.write('(%.9f %.9f %.9f)\\n' % (points[0], points[1], points[2]))\n",
    "# fh.close()"
   ]
  }
 ],
 "metadata": {
  "kernelspec": {
   "display_name": "Python 3",
   "language": "python",
   "name": "python3"
  },
  "language_info": {
   "codemirror_mode": {
    "name": "ipython",
    "version": 3
   },
   "file_extension": ".py",
   "mimetype": "text/x-python",
   "name": "python",
   "nbconvert_exporter": "python",
   "pygments_lexer": "ipython3",
   "version": "3.8.5"
  }
 },
 "nbformat": 4,
 "nbformat_minor": 4
}
